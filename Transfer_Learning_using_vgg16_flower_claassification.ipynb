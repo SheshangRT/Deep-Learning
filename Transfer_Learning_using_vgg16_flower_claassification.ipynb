{
  "nbformat": 4,
  "nbformat_minor": 0,
  "metadata": {
    "colab": {
      "provenance": []
    },
    "kernelspec": {
      "name": "python3",
      "display_name": "Python 3"
    },
    "language_info": {
      "name": "python"
    },
    "widgets": {
      "application/vnd.jupyter.widget-state+json": {
        "e3e89eea02a841ba9cedcc04776622c0": {
          "model_module": "@jupyter-widgets/controls",
          "model_name": "HBoxModel",
          "model_module_version": "1.5.0",
          "state": {
            "_dom_classes": [],
            "_model_module": "@jupyter-widgets/controls",
            "_model_module_version": "1.5.0",
            "_model_name": "HBoxModel",
            "_view_count": null,
            "_view_module": "@jupyter-widgets/controls",
            "_view_module_version": "1.5.0",
            "_view_name": "HBoxView",
            "box_style": "",
            "children": [
              "IPY_MODEL_44621229650e4f71ab69a17103b9fa24",
              "IPY_MODEL_a188caf9ad82429ab21ff5df4175a1b8",
              "IPY_MODEL_03bd216cba5a4f6cb3ad09442f4ad580"
            ],
            "layout": "IPY_MODEL_b981efd5c60943d79da1ea8cc6ad7f63"
          }
        },
        "44621229650e4f71ab69a17103b9fa24": {
          "model_module": "@jupyter-widgets/controls",
          "model_name": "HTMLModel",
          "model_module_version": "1.5.0",
          "state": {
            "_dom_classes": [],
            "_model_module": "@jupyter-widgets/controls",
            "_model_module_version": "1.5.0",
            "_model_name": "HTMLModel",
            "_view_count": null,
            "_view_module": "@jupyter-widgets/controls",
            "_view_module_version": "1.5.0",
            "_view_name": "HTMLView",
            "description": "",
            "description_tooltip": null,
            "layout": "IPY_MODEL_cf3006dc95f44f63b007e0e6b9938725",
            "placeholder": "​",
            "style": "IPY_MODEL_7930da9f1b994ec79a34f827c03e6150",
            "value": "Dl Completed...: 100%"
          }
        },
        "a188caf9ad82429ab21ff5df4175a1b8": {
          "model_module": "@jupyter-widgets/controls",
          "model_name": "FloatProgressModel",
          "model_module_version": "1.5.0",
          "state": {
            "_dom_classes": [],
            "_model_module": "@jupyter-widgets/controls",
            "_model_module_version": "1.5.0",
            "_model_name": "FloatProgressModel",
            "_view_count": null,
            "_view_module": "@jupyter-widgets/controls",
            "_view_module_version": "1.5.0",
            "_view_name": "ProgressView",
            "bar_style": "success",
            "description": "",
            "description_tooltip": null,
            "layout": "IPY_MODEL_430c0a1a40cc46208f33b292f3f6b585",
            "max": 5,
            "min": 0,
            "orientation": "horizontal",
            "style": "IPY_MODEL_d1558126edd2463ab1f69e38705c1f52",
            "value": 5
          }
        },
        "03bd216cba5a4f6cb3ad09442f4ad580": {
          "model_module": "@jupyter-widgets/controls",
          "model_name": "HTMLModel",
          "model_module_version": "1.5.0",
          "state": {
            "_dom_classes": [],
            "_model_module": "@jupyter-widgets/controls",
            "_model_module_version": "1.5.0",
            "_model_name": "HTMLModel",
            "_view_count": null,
            "_view_module": "@jupyter-widgets/controls",
            "_view_module_version": "1.5.0",
            "_view_name": "HTMLView",
            "description": "",
            "description_tooltip": null,
            "layout": "IPY_MODEL_38cd06072c894bfd8ba51df5d612422a",
            "placeholder": "​",
            "style": "IPY_MODEL_5c7b264a0de7449a96239855c61fed83",
            "value": " 5/5 [00:01&lt;00:00,  2.12 file/s]"
          }
        },
        "b981efd5c60943d79da1ea8cc6ad7f63": {
          "model_module": "@jupyter-widgets/base",
          "model_name": "LayoutModel",
          "model_module_version": "1.2.0",
          "state": {
            "_model_module": "@jupyter-widgets/base",
            "_model_module_version": "1.2.0",
            "_model_name": "LayoutModel",
            "_view_count": null,
            "_view_module": "@jupyter-widgets/base",
            "_view_module_version": "1.2.0",
            "_view_name": "LayoutView",
            "align_content": null,
            "align_items": null,
            "align_self": null,
            "border": null,
            "bottom": null,
            "display": null,
            "flex": null,
            "flex_flow": null,
            "grid_area": null,
            "grid_auto_columns": null,
            "grid_auto_flow": null,
            "grid_auto_rows": null,
            "grid_column": null,
            "grid_gap": null,
            "grid_row": null,
            "grid_template_areas": null,
            "grid_template_columns": null,
            "grid_template_rows": null,
            "height": null,
            "justify_content": null,
            "justify_items": null,
            "left": null,
            "margin": null,
            "max_height": null,
            "max_width": null,
            "min_height": null,
            "min_width": null,
            "object_fit": null,
            "object_position": null,
            "order": null,
            "overflow": null,
            "overflow_x": null,
            "overflow_y": null,
            "padding": null,
            "right": null,
            "top": null,
            "visibility": null,
            "width": null
          }
        },
        "cf3006dc95f44f63b007e0e6b9938725": {
          "model_module": "@jupyter-widgets/base",
          "model_name": "LayoutModel",
          "model_module_version": "1.2.0",
          "state": {
            "_model_module": "@jupyter-widgets/base",
            "_model_module_version": "1.2.0",
            "_model_name": "LayoutModel",
            "_view_count": null,
            "_view_module": "@jupyter-widgets/base",
            "_view_module_version": "1.2.0",
            "_view_name": "LayoutView",
            "align_content": null,
            "align_items": null,
            "align_self": null,
            "border": null,
            "bottom": null,
            "display": null,
            "flex": null,
            "flex_flow": null,
            "grid_area": null,
            "grid_auto_columns": null,
            "grid_auto_flow": null,
            "grid_auto_rows": null,
            "grid_column": null,
            "grid_gap": null,
            "grid_row": null,
            "grid_template_areas": null,
            "grid_template_columns": null,
            "grid_template_rows": null,
            "height": null,
            "justify_content": null,
            "justify_items": null,
            "left": null,
            "margin": null,
            "max_height": null,
            "max_width": null,
            "min_height": null,
            "min_width": null,
            "object_fit": null,
            "object_position": null,
            "order": null,
            "overflow": null,
            "overflow_x": null,
            "overflow_y": null,
            "padding": null,
            "right": null,
            "top": null,
            "visibility": null,
            "width": null
          }
        },
        "7930da9f1b994ec79a34f827c03e6150": {
          "model_module": "@jupyter-widgets/controls",
          "model_name": "DescriptionStyleModel",
          "model_module_version": "1.5.0",
          "state": {
            "_model_module": "@jupyter-widgets/controls",
            "_model_module_version": "1.5.0",
            "_model_name": "DescriptionStyleModel",
            "_view_count": null,
            "_view_module": "@jupyter-widgets/base",
            "_view_module_version": "1.2.0",
            "_view_name": "StyleView",
            "description_width": ""
          }
        },
        "430c0a1a40cc46208f33b292f3f6b585": {
          "model_module": "@jupyter-widgets/base",
          "model_name": "LayoutModel",
          "model_module_version": "1.2.0",
          "state": {
            "_model_module": "@jupyter-widgets/base",
            "_model_module_version": "1.2.0",
            "_model_name": "LayoutModel",
            "_view_count": null,
            "_view_module": "@jupyter-widgets/base",
            "_view_module_version": "1.2.0",
            "_view_name": "LayoutView",
            "align_content": null,
            "align_items": null,
            "align_self": null,
            "border": null,
            "bottom": null,
            "display": null,
            "flex": null,
            "flex_flow": null,
            "grid_area": null,
            "grid_auto_columns": null,
            "grid_auto_flow": null,
            "grid_auto_rows": null,
            "grid_column": null,
            "grid_gap": null,
            "grid_row": null,
            "grid_template_areas": null,
            "grid_template_columns": null,
            "grid_template_rows": null,
            "height": null,
            "justify_content": null,
            "justify_items": null,
            "left": null,
            "margin": null,
            "max_height": null,
            "max_width": null,
            "min_height": null,
            "min_width": null,
            "object_fit": null,
            "object_position": null,
            "order": null,
            "overflow": null,
            "overflow_x": null,
            "overflow_y": null,
            "padding": null,
            "right": null,
            "top": null,
            "visibility": null,
            "width": null
          }
        },
        "d1558126edd2463ab1f69e38705c1f52": {
          "model_module": "@jupyter-widgets/controls",
          "model_name": "ProgressStyleModel",
          "model_module_version": "1.5.0",
          "state": {
            "_model_module": "@jupyter-widgets/controls",
            "_model_module_version": "1.5.0",
            "_model_name": "ProgressStyleModel",
            "_view_count": null,
            "_view_module": "@jupyter-widgets/base",
            "_view_module_version": "1.2.0",
            "_view_name": "StyleView",
            "bar_color": null,
            "description_width": ""
          }
        },
        "38cd06072c894bfd8ba51df5d612422a": {
          "model_module": "@jupyter-widgets/base",
          "model_name": "LayoutModel",
          "model_module_version": "1.2.0",
          "state": {
            "_model_module": "@jupyter-widgets/base",
            "_model_module_version": "1.2.0",
            "_model_name": "LayoutModel",
            "_view_count": null,
            "_view_module": "@jupyter-widgets/base",
            "_view_module_version": "1.2.0",
            "_view_name": "LayoutView",
            "align_content": null,
            "align_items": null,
            "align_self": null,
            "border": null,
            "bottom": null,
            "display": null,
            "flex": null,
            "flex_flow": null,
            "grid_area": null,
            "grid_auto_columns": null,
            "grid_auto_flow": null,
            "grid_auto_rows": null,
            "grid_column": null,
            "grid_gap": null,
            "grid_row": null,
            "grid_template_areas": null,
            "grid_template_columns": null,
            "grid_template_rows": null,
            "height": null,
            "justify_content": null,
            "justify_items": null,
            "left": null,
            "margin": null,
            "max_height": null,
            "max_width": null,
            "min_height": null,
            "min_width": null,
            "object_fit": null,
            "object_position": null,
            "order": null,
            "overflow": null,
            "overflow_x": null,
            "overflow_y": null,
            "padding": null,
            "right": null,
            "top": null,
            "visibility": null,
            "width": null
          }
        },
        "5c7b264a0de7449a96239855c61fed83": {
          "model_module": "@jupyter-widgets/controls",
          "model_name": "DescriptionStyleModel",
          "model_module_version": "1.5.0",
          "state": {
            "_model_module": "@jupyter-widgets/controls",
            "_model_module_version": "1.5.0",
            "_model_name": "DescriptionStyleModel",
            "_view_count": null,
            "_view_module": "@jupyter-widgets/base",
            "_view_module_version": "1.2.0",
            "_view_name": "StyleView",
            "description_width": ""
          }
        }
      }
    }
  },
  "cells": [
    {
      "cell_type": "code",
      "execution_count": null,
      "metadata": {
        "id": "knYYHCPujpCE"
      },
      "outputs": [],
      "source": [
        "import tensorflow_datasets as tfds\n",
        "import tensorflow as tf\n",
        "from tensorflow.keras.utils import to_categorical"
      ]
    },
    {
      "cell_type": "code",
      "source": [
        "\n",
        "## Loading images and labels\n",
        "(train_ds, train_labels), (test_ds, test_labels) = tfds.load(\n",
        "    \"tf_flowers\",\n",
        "    split=[\"train[:60%]\", \"train[:40%]\"], ## Train test split\n",
        "    batch_size=-1,\n",
        "    as_supervised=True,  # Include labels\n",
        ")\n"
      ],
      "metadata": {
        "colab": {
          "base_uri": "https://localhost:8080/",
          "height": 84,
          "referenced_widgets": [
            "e3e89eea02a841ba9cedcc04776622c0",
            "44621229650e4f71ab69a17103b9fa24",
            "a188caf9ad82429ab21ff5df4175a1b8",
            "03bd216cba5a4f6cb3ad09442f4ad580",
            "b981efd5c60943d79da1ea8cc6ad7f63",
            "cf3006dc95f44f63b007e0e6b9938725",
            "7930da9f1b994ec79a34f827c03e6150",
            "430c0a1a40cc46208f33b292f3f6b585",
            "d1558126edd2463ab1f69e38705c1f52",
            "38cd06072c894bfd8ba51df5d612422a",
            "5c7b264a0de7449a96239855c61fed83"
          ]
        },
        "id": "19PSgPuKjqcd",
        "outputId": "47124d89-f068-4a88-fa03-491d93e58655"
      },
      "execution_count": null,
      "outputs": [
        {
          "output_type": "stream",
          "name": "stdout",
          "text": [
            "Downloading and preparing dataset 218.21 MiB (download: 218.21 MiB, generated: 221.83 MiB, total: 440.05 MiB) to /root/tensorflow_datasets/tf_flowers/3.0.1...\n"
          ]
        },
        {
          "output_type": "display_data",
          "data": {
            "text/plain": [
              "Dl Completed...:   0%|          | 0/5 [00:00<?, ? file/s]"
            ],
            "application/vnd.jupyter.widget-view+json": {
              "version_major": 2,
              "version_minor": 0,
              "model_id": "e3e89eea02a841ba9cedcc04776622c0"
            }
          },
          "metadata": {}
        },
        {
          "output_type": "stream",
          "name": "stdout",
          "text": [
            "Dataset tf_flowers downloaded and prepared to /root/tensorflow_datasets/tf_flowers/3.0.1. Subsequent calls will reuse this data.\n"
          ]
        }
      ]
    },
    {
      "cell_type": "code",
      "source": [
        "train_ds[0].shape"
      ],
      "metadata": {
        "colab": {
          "base_uri": "https://localhost:8080/"
        },
        "id": "ubS49LDcj-Xa",
        "outputId": "7183e8e4-acf7-42e2-85db-c17bcc0c2bd7"
      },
      "execution_count": null,
      "outputs": [
        {
          "output_type": "execute_result",
          "data": {
            "text/plain": [
              "TensorShape([442, 1024, 3])"
            ]
          },
          "metadata": {},
          "execution_count": 3
        }
      ]
    },
    {
      "cell_type": "code",
      "source": [
        "train_ds = tf.image.resize(train_ds, (150, 150))\n",
        "test_ds = tf.image.resize(test_ds, (150, 150))"
      ],
      "metadata": {
        "id": "9nUXo7JrkHDF"
      },
      "execution_count": null,
      "outputs": []
    },
    {
      "cell_type": "code",
      "source": [
        "train_labels\n"
      ],
      "metadata": {
        "colab": {
          "base_uri": "https://localhost:8080/"
        },
        "id": "FcXvufUvkNuA",
        "outputId": "9c12928b-c657-46ca-9ab7-95edbcfc143a"
      },
      "execution_count": null,
      "outputs": [
        {
          "output_type": "execute_result",
          "data": {
            "text/plain": [
              "<tf.Tensor: shape=(2202,), dtype=int64, numpy=array([2, 3, 3, ..., 0, 2, 0])>"
            ]
          },
          "metadata": {},
          "execution_count": 5
        }
      ]
    },
    {
      "cell_type": "code",
      "source": [
        "train_labels = to_categorical(train_labels, num_classes=5)\n",
        "test_labels = to_categorical(test_labels, num_classes=5)\n"
      ],
      "metadata": {
        "id": "G5XjM3g6l_rX"
      },
      "execution_count": null,
      "outputs": []
    },
    {
      "cell_type": "code",
      "source": [
        "train_labels[0]"
      ],
      "metadata": {
        "colab": {
          "base_uri": "https://localhost:8080/"
        },
        "id": "pXHxJGGXmGk1",
        "outputId": "e6d16455-a3df-4a1c-cdda-4413afc8cbe0"
      },
      "execution_count": null,
      "outputs": [
        {
          "output_type": "execute_result",
          "data": {
            "text/plain": [
              "array([0., 0., 1., 0., 0.], dtype=float32)"
            ]
          },
          "metadata": {},
          "execution_count": 7
        }
      ]
    },
    {
      "cell_type": "markdown",
      "source": [
        "## pre trained model using vgg16"
      ],
      "metadata": {
        "id": "jZlRQuN-JlZp"
      }
    },
    {
      "cell_type": "code",
      "source": [
        "#using vgg16\n",
        "from tensorflow.keras.applications.vgg16 import VGG16\n",
        "from tensorflow.keras.applications.vgg16 import preprocess_input"
      ],
      "metadata": {
        "id": "WMVorR9BmLLz"
      },
      "execution_count": null,
      "outputs": []
    },
    {
      "cell_type": "code",
      "source": [
        "train_ds[0].shape"
      ],
      "metadata": {
        "colab": {
          "base_uri": "https://localhost:8080/"
        },
        "id": "XDCW8q_umRod",
        "outputId": "6959ed14-5217-491b-9c48-0f2af4ad400b"
      },
      "execution_count": null,
      "outputs": [
        {
          "output_type": "execute_result",
          "data": {
            "text/plain": [
              "TensorShape([150, 150, 3])"
            ]
          },
          "metadata": {},
          "execution_count": 13
        }
      ]
    },
    {
      "cell_type": "code",
      "source": [
        "base_model = VGG16(weights=\"imagenet\", include_top=False, input_shape=train_ds[0].shape)"
      ],
      "metadata": {
        "colab": {
          "base_uri": "https://localhost:8080/"
        },
        "id": "-BP_L9iYmgZm",
        "outputId": "784b1d43-1c15-4f99-901f-3481e9a48675"
      },
      "execution_count": null,
      "outputs": [
        {
          "output_type": "stream",
          "name": "stdout",
          "text": [
            "Downloading data from https://storage.googleapis.com/tensorflow/keras-applications/vgg16/vgg16_weights_tf_dim_ordering_tf_kernels_notop.h5\n",
            "58889256/58889256 [==============================] - 0s 0us/step\n"
          ]
        }
      ]
    },
    {
      "cell_type": "code",
      "source": [
        "base_model.trainable = False"
      ],
      "metadata": {
        "id": "gXKXswCZmklj"
      },
      "execution_count": null,
      "outputs": []
    },
    {
      "cell_type": "code",
      "source": [
        "train_ds = preprocess_input(train_ds)\n",
        "test_ds = preprocess_input(test_ds)"
      ],
      "metadata": {
        "id": "YmhCQfiqmwhU"
      },
      "execution_count": null,
      "outputs": []
    },
    {
      "cell_type": "code",
      "source": [
        "base_model.summary()"
      ],
      "metadata": {
        "colab": {
          "base_uri": "https://localhost:8080/"
        },
        "id": "PjQ9jeIXmz8M",
        "outputId": "98e4a21d-3597-4edd-acd6-5917d077ed0a"
      },
      "execution_count": null,
      "outputs": [
        {
          "output_type": "stream",
          "name": "stdout",
          "text": [
            "Model: \"vgg16\"\n",
            "_________________________________________________________________\n",
            " Layer (type)                Output Shape              Param #   \n",
            "=================================================================\n",
            " input_1 (InputLayer)        [(None, 150, 150, 3)]     0         \n",
            "                                                                 \n",
            " block1_conv1 (Conv2D)       (None, 150, 150, 64)      1792      \n",
            "                                                                 \n",
            " block1_conv2 (Conv2D)       (None, 150, 150, 64)      36928     \n",
            "                                                                 \n",
            " block1_pool (MaxPooling2D)  (None, 75, 75, 64)        0         \n",
            "                                                                 \n",
            " block2_conv1 (Conv2D)       (None, 75, 75, 128)       73856     \n",
            "                                                                 \n",
            " block2_conv2 (Conv2D)       (None, 75, 75, 128)       147584    \n",
            "                                                                 \n",
            " block2_pool (MaxPooling2D)  (None, 37, 37, 128)       0         \n",
            "                                                                 \n",
            " block3_conv1 (Conv2D)       (None, 37, 37, 256)       295168    \n",
            "                                                                 \n",
            " block3_conv2 (Conv2D)       (None, 37, 37, 256)       590080    \n",
            "                                                                 \n",
            " block3_conv3 (Conv2D)       (None, 37, 37, 256)       590080    \n",
            "                                                                 \n",
            " block3_pool (MaxPooling2D)  (None, 18, 18, 256)       0         \n",
            "                                                                 \n",
            " block4_conv1 (Conv2D)       (None, 18, 18, 512)       1180160   \n",
            "                                                                 \n",
            " block4_conv2 (Conv2D)       (None, 18, 18, 512)       2359808   \n",
            "                                                                 \n",
            " block4_conv3 (Conv2D)       (None, 18, 18, 512)       2359808   \n",
            "                                                                 \n",
            " block4_pool (MaxPooling2D)  (None, 9, 9, 512)         0         \n",
            "                                                                 \n",
            " block5_conv1 (Conv2D)       (None, 9, 9, 512)         2359808   \n",
            "                                                                 \n",
            " block5_conv2 (Conv2D)       (None, 9, 9, 512)         2359808   \n",
            "                                                                 \n",
            " block5_conv3 (Conv2D)       (None, 9, 9, 512)         2359808   \n",
            "                                                                 \n",
            " block5_pool (MaxPooling2D)  (None, 4, 4, 512)         0         \n",
            "                                                                 \n",
            "=================================================================\n",
            "Total params: 14714688 (56.13 MB)\n",
            "Trainable params: 0 (0.00 Byte)\n",
            "Non-trainable params: 14714688 (56.13 MB)\n",
            "_________________________________________________________________\n"
          ]
        }
      ]
    },
    {
      "cell_type": "code",
      "source": [
        "from tensorflow.keras import layers, models\n",
        "\n",
        "flatten_layer = layers.Flatten()\n",
        "dense_layer_1 = layers.Dense(50, activation='relu')\n",
        "dense_layer_2 = layers.Dense(20, activation='relu')\n",
        "prediction_layer = layers.Dense(5, activation='softmax')\n",
        "\n",
        "\n",
        "model = models.Sequential([\n",
        "    base_model,\n",
        "    flatten_layer,\n",
        "    dense_layer_1,\n",
        "    dense_layer_2,\n",
        "    prediction_layer\n",
        "])"
      ],
      "metadata": {
        "id": "vSC831Lem8nO"
      },
      "execution_count": null,
      "outputs": []
    },
    {
      "cell_type": "code",
      "source": [
        "from tensorflow.keras.callbacks import EarlyStopping\n",
        "\n",
        "model.compile(\n",
        "    optimizer='adam',\n",
        "    loss='categorical_crossentropy',\n",
        "    metrics=['accuracy'],\n",
        ")"
      ],
      "metadata": {
        "id": "FWWab22_nU6j"
      },
      "execution_count": null,
      "outputs": []
    },
    {
      "cell_type": "code",
      "source": [
        "es = EarlyStopping(monitor='val_accuracy', mode='max', patience=5,  restore_best_weights=True)"
      ],
      "metadata": {
        "id": "Z9HcK4CUnYxz"
      },
      "execution_count": null,
      "outputs": []
    },
    {
      "cell_type": "code",
      "source": [
        "model.fit(train_ds, train_labels, epochs=50, validation_split=0.2, batch_size=32, callbacks=[es])"
      ],
      "metadata": {
        "colab": {
          "base_uri": "https://localhost:8080/"
        },
        "id": "KN79lm7Xncid",
        "outputId": "1426f931-4176-4938-bbcf-d3ae84f3a478"
      },
      "execution_count": null,
      "outputs": [
        {
          "output_type": "stream",
          "name": "stdout",
          "text": [
            "Epoch 1/50\n",
            "56/56 [==============================] - 589s 10s/step - loss: 1.8304 - accuracy: 0.4600 - val_loss: 1.1535 - val_accuracy: 0.6054\n",
            "Epoch 2/50\n",
            "56/56 [==============================] - 586s 11s/step - loss: 0.8380 - accuracy: 0.6928 - val_loss: 0.8972 - val_accuracy: 0.6916\n",
            "Epoch 3/50\n",
            "56/56 [==============================] - 607s 11s/step - loss: 0.5583 - accuracy: 0.8064 - val_loss: 0.8641 - val_accuracy: 0.7075\n",
            "Epoch 4/50\n",
            "56/56 [==============================] - 553s 10s/step - loss: 0.3588 - accuracy: 0.8790 - val_loss: 1.0272 - val_accuracy: 0.7098\n",
            "Epoch 5/50\n",
            "56/56 [==============================] - 582s 10s/step - loss: 0.2540 - accuracy: 0.9154 - val_loss: 0.9202 - val_accuracy: 0.7052\n",
            "Epoch 6/50\n",
            "56/56 [==============================] - 580s 10s/step - loss: 0.1714 - accuracy: 0.9500 - val_loss: 0.9346 - val_accuracy: 0.7120\n",
            "Epoch 7/50\n",
            "56/56 [==============================] - 551s 10s/step - loss: 0.1168 - accuracy: 0.9659 - val_loss: 1.0789 - val_accuracy: 0.7234\n",
            "Epoch 8/50\n",
            "56/56 [==============================] - 581s 10s/step - loss: 0.0981 - accuracy: 0.9682 - val_loss: 1.1942 - val_accuracy: 0.7234\n",
            "Epoch 9/50\n",
            "56/56 [==============================] - 581s 10s/step - loss: 0.2117 - accuracy: 0.9245 - val_loss: 1.2767 - val_accuracy: 0.6916\n",
            "Epoch 10/50\n",
            "56/56 [==============================] - 580s 10s/step - loss: 0.2127 - accuracy: 0.9273 - val_loss: 1.3683 - val_accuracy: 0.7052\n",
            "Epoch 11/50\n",
            "56/56 [==============================] - 580s 10s/step - loss: 0.0887 - accuracy: 0.9739 - val_loss: 1.3307 - val_accuracy: 0.7098\n",
            "Epoch 12/50\n",
            "56/56 [==============================] - 579s 10s/step - loss: 0.1923 - accuracy: 0.9370 - val_loss: 1.3775 - val_accuracy: 0.7098\n"
          ]
        },
        {
          "output_type": "execute_result",
          "data": {
            "text/plain": [
              "<keras.src.callbacks.History at 0x7e4235447280>"
            ]
          },
          "metadata": {},
          "execution_count": 21
        }
      ]
    },
    {
      "cell_type": "code",
      "source": [
        "\n",
        "from tensorflow.keras import Sequential, layers\n",
        "from tensorflow.keras.callbacks import EarlyStopping\n",
        "from tensorflow.keras.layers.experimental.preprocessing import Rescaling\n",
        "\n",
        "\n",
        "full_model = Sequential()\n",
        "full_model.add(Rescaling(1./255, input_shape=(150,150,3)))\n",
        "\n",
        "full_model.add(layers.Conv2D(16, kernel_size=10, activation='relu'))\n",
        "full_model.add(layers.MaxPooling2D(3))\n",
        "\n",
        "full_model.add(layers.Conv2D(32, kernel_size=8, activation=\"relu\"))\n",
        "full_model.add(layers.MaxPooling2D(2))\n",
        "\n",
        "full_model.add(layers.Conv2D(32, kernel_size=6, activation=\"relu\"))\n",
        "full_model.add(layers.MaxPooling2D(2))\n",
        "\n",
        "full_model.add(layers.Flatten())\n",
        "full_model.add(layers.Dense(50, activation='relu'))\n",
        "full_model.add(layers.Dense(20, activation='relu'))\n",
        "full_model.add(layers.Dense(5, activation='softmax'))\n",
        "\n",
        "\n",
        "full_model.compile(\n",
        "    optimizer='adam',\n",
        "    loss='categorical_crossentropy',\n",
        "    metrics=['accuracy'],\n",
        ")\n",
        "\n",
        "\n",
        "es = EarlyStopping(monitor='val_accuracy', mode='max', patience=5,  restore_best_weights=True)\n",
        "\n",
        "full_model.fit(train_ds, train_labels, epochs=50, validation_split=0.2, batch_size=32, callbacks=[es])"
      ],
      "metadata": {
        "colab": {
          "base_uri": "https://localhost:8080/"
        },
        "id": "Ysj6IkNEEbvD",
        "outputId": "cda32ee8-6991-41e5-8f63-79446fffa8b6"
      },
      "execution_count": null,
      "outputs": [
        {
          "output_type": "stream",
          "name": "stdout",
          "text": [
            "Epoch 1/50\n",
            "56/56 [==============================] - 87s 2s/step - loss: 1.5687 - accuracy: 0.2601 - val_loss: 1.4823 - val_accuracy: 0.3605\n",
            "Epoch 2/50\n",
            "56/56 [==============================] - 87s 2s/step - loss: 1.4451 - accuracy: 0.3538 - val_loss: 1.4055 - val_accuracy: 0.4490\n",
            "Epoch 3/50\n",
            "56/56 [==============================] - 91s 2s/step - loss: 1.2653 - accuracy: 0.4560 - val_loss: 1.3450 - val_accuracy: 0.4490\n",
            "Epoch 4/50\n",
            "56/56 [==============================] - 91s 2s/step - loss: 1.2096 - accuracy: 0.4645 - val_loss: 1.2214 - val_accuracy: 0.4785\n",
            "Epoch 5/50\n",
            "56/56 [==============================] - 91s 2s/step - loss: 1.1372 - accuracy: 0.5168 - val_loss: 1.2819 - val_accuracy: 0.5193\n",
            "Epoch 6/50\n",
            "56/56 [==============================] - 92s 2s/step - loss: 1.0839 - accuracy: 0.5503 - val_loss: 1.1888 - val_accuracy: 0.5125\n",
            "Epoch 7/50\n",
            "56/56 [==============================] - 91s 2s/step - loss: 1.0196 - accuracy: 0.5866 - val_loss: 1.2190 - val_accuracy: 0.4853\n",
            "Epoch 8/50\n",
            "56/56 [==============================] - 92s 2s/step - loss: 0.9383 - accuracy: 0.6087 - val_loss: 1.1511 - val_accuracy: 0.5692\n",
            "Epoch 9/50\n",
            "56/56 [==============================] - 91s 2s/step - loss: 0.8711 - accuracy: 0.6388 - val_loss: 1.1964 - val_accuracy: 0.5193\n",
            "Epoch 10/50\n",
            "56/56 [==============================] - 87s 2s/step - loss: 0.8040 - accuracy: 0.6837 - val_loss: 1.2429 - val_accuracy: 0.5465\n",
            "Epoch 11/50\n",
            "56/56 [==============================] - 86s 2s/step - loss: 0.7200 - accuracy: 0.7161 - val_loss: 1.3619 - val_accuracy: 0.5329\n",
            "Epoch 12/50\n",
            "56/56 [==============================] - 86s 2s/step - loss: 0.6708 - accuracy: 0.7354 - val_loss: 1.3901 - val_accuracy: 0.5533\n",
            "Epoch 13/50\n",
            "56/56 [==============================] - 86s 2s/step - loss: 0.6612 - accuracy: 0.7411 - val_loss: 1.4603 - val_accuracy: 0.5465\n"
          ]
        },
        {
          "output_type": "execute_result",
          "data": {
            "text/plain": [
              "<keras.src.callbacks.History at 0x7e421e972da0>"
            ]
          },
          "metadata": {},
          "execution_count": 22
        }
      ]
    },
    {
      "cell_type": "code",
      "source": [],
      "metadata": {
        "id": "vkFpoR1QEc-i"
      },
      "execution_count": null,
      "outputs": []
    }
  ]
}